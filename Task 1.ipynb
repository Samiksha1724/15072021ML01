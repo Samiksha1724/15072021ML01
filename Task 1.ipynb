{
 "cells": [
  {
   "cell_type": "code",
   "execution_count": 1,
   "metadata": {},
   "outputs": [
    {
     "data": {
      "text/plain": [
       "1953125"
      ]
     },
     "execution_count": 1,
     "metadata": {},
     "output_type": "execute_result"
    }
   ],
   "source": [
    "#Ques 1-Done\n",
    "#Ques 2\n",
    "5**9"
   ]
  },
  {
   "cell_type": "code",
   "execution_count": 2,
   "metadata": {},
   "outputs": [
    {
     "data": {
      "text/plain": [
       "1"
      ]
     },
     "execution_count": 2,
     "metadata": {},
     "output_type": "execute_result"
    }
   ],
   "source": [
    "3//2"
   ]
  },
  {
   "cell_type": "code",
   "execution_count": 3,
   "metadata": {},
   "outputs": [
    {
     "data": {
      "text/plain": [
       "2"
      ]
     },
     "execution_count": 3,
     "metadata": {},
     "output_type": "execute_result"
    }
   ],
   "source": [
    "7//3"
   ]
  },
  {
   "cell_type": "code",
   "execution_count": 4,
   "metadata": {},
   "outputs": [
    {
     "data": {
      "text/plain": [
       "2.3333333333333335"
      ]
     },
     "execution_count": 4,
     "metadata": {},
     "output_type": "execute_result"
    }
   ],
   "source": [
    "7/3"
   ]
  },
  {
   "cell_type": "code",
   "execution_count": 5,
   "metadata": {},
   "outputs": [
    {
     "data": {
      "text/plain": [
       "True"
      ]
     },
     "execution_count": 5,
     "metadata": {},
     "output_type": "execute_result"
    }
   ],
   "source": [
    "6==6"
   ]
  },
  {
   "cell_type": "code",
   "execution_count": 6,
   "metadata": {},
   "outputs": [
    {
     "name": "stdout",
     "output_type": "stream",
     "text": [
      "2\n"
     ]
    }
   ],
   "source": [
    "a=20;\n",
    "a+=30;\n",
    "a%=3;\n",
    "print(a)"
   ]
  },
  {
   "cell_type": "code",
   "execution_count": 7,
   "metadata": {},
   "outputs": [
    {
     "data": {
      "text/plain": [
       "0"
      ]
     },
     "execution_count": 7,
     "metadata": {},
     "output_type": "execute_result"
    }
   ],
   "source": [
    "True*False"
   ]
  },
  {
   "cell_type": "code",
   "execution_count": 8,
   "metadata": {},
   "outputs": [
    {
     "data": {
      "text/plain": [
       "False"
      ]
     },
     "execution_count": 8,
     "metadata": {},
     "output_type": "execute_result"
    }
   ],
   "source": [
    "True&False"
   ]
  },
  {
   "cell_type": "code",
   "execution_count": 9,
   "metadata": {},
   "outputs": [
    {
     "data": {
      "text/plain": [
       "False"
      ]
     },
     "execution_count": 9,
     "metadata": {},
     "output_type": "execute_result"
    }
   ],
   "source": [
    "True and False"
   ]
  },
  {
   "cell_type": "code",
   "execution_count": 10,
   "metadata": {},
   "outputs": [
    {
     "data": {
      "text/plain": [
       "False"
      ]
     },
     "execution_count": 10,
     "metadata": {},
     "output_type": "execute_result"
    }
   ],
   "source": [
    "((6>3)and(7<4)or(18==3)and(9>3))"
   ]
  },
  {
   "cell_type": "code",
   "execution_count": 11,
   "metadata": {},
   "outputs": [
    {
     "data": {
      "text/plain": [
       "False"
      ]
     },
     "execution_count": 11,
     "metadata": {},
     "output_type": "execute_result"
    }
   ],
   "source": [
    "True is False"
   ]
  },
  {
   "cell_type": "code",
   "execution_count": 12,
   "metadata": {},
   "outputs": [
    {
     "ename": "TypeError",
     "evalue": "'in <string>' requires string as left operand, not bool",
     "output_type": "error",
     "traceback": [
      "\u001b[1;31m---------------------------------------------------------------------------\u001b[0m",
      "\u001b[1;31mTypeError\u001b[0m                                 Traceback (most recent call last)",
      "\u001b[1;32m<ipython-input-12-2d8d452715a3>\u001b[0m in \u001b[0;36m<module>\u001b[1;34m\u001b[0m\n\u001b[1;32m----> 1\u001b[1;33m \u001b[1;32mFalse\u001b[0m \u001b[1;32min\u001b[0m \u001b[1;34m'False'\u001b[0m\u001b[1;33m\u001b[0m\u001b[1;33m\u001b[0m\u001b[0m\n\u001b[0m",
      "\u001b[1;31mTypeError\u001b[0m: 'in <string>' requires string as left operand, not bool"
     ]
    }
   ],
   "source": [
    "False in 'False'"
   ]
  },
  {
   "cell_type": "code",
   "execution_count": 13,
   "metadata": {},
   "outputs": [
    {
     "data": {
      "text/plain": [
       "False"
      ]
     },
     "execution_count": 13,
     "metadata": {},
     "output_type": "execute_result"
    }
   ],
   "source": [
    "((True==False)or(False>True)and(False<=True))"
   ]
  },
  {
   "cell_type": "code",
   "execution_count": 18,
   "metadata": {},
   "outputs": [],
   "source": [
    "#Ques-3 \n",
    "s1 = \"Nice to have it\"\n",
    "s2 = \"here\"\n",
    "s=s1+\" \"+s2"
   ]
  },
  {
   "cell_type": "code",
   "execution_count": 19,
   "metadata": {},
   "outputs": [
    {
     "data": {
      "text/plain": [
       "'Nice to have it here'"
      ]
     },
     "execution_count": 19,
     "metadata": {},
     "output_type": "execute_result"
    }
   ],
   "source": [
    "s"
   ]
  },
  {
   "cell_type": "code",
   "execution_count": 21,
   "metadata": {},
   "outputs": [
    {
     "data": {
      "text/plain": [
       "'hello'"
      ]
     },
     "execution_count": 21,
     "metadata": {},
     "output_type": "execute_result"
    }
   ],
   "source": [
    "#Ques-4\n",
    "a=[1,2,[3,4],[5,[100,200,['hello']],23,11],1,7]\n",
    "a[3][1][2][0]"
   ]
  },
  {
   "cell_type": "code",
   "execution_count": 25,
   "metadata": {},
   "outputs": [],
   "source": [
    "#Ques-5\n",
    "a=[1,2,[3,4],[5,[100,200,['hello']],23,11],1,7]\n",
    "a[0]='Nice to have it here'\n",
    "a[5]='Nice to have it here'"
   ]
  },
  {
   "cell_type": "code",
   "execution_count": 26,
   "metadata": {},
   "outputs": [
    {
     "data": {
      "text/plain": [
       "['Nice to have it here',\n",
       " 2,\n",
       " [3, 4],\n",
       " [5, [100, 200, ['hello']], 23, 11],\n",
       " 1,\n",
       " 'Nice to have it here']"
      ]
     },
     "execution_count": 26,
     "metadata": {},
     "output_type": "execute_result"
    }
   ],
   "source": [
    "a"
   ]
  },
  {
   "cell_type": "code",
   "execution_count": 31,
   "metadata": {},
   "outputs": [
    {
     "name": "stdout",
     "output_type": "stream",
     "text": [
      "[386, 462, 418, 344, 236, 566, 978, 328, 162, 758, 918]\n"
     ]
    }
   ],
   "source": [
    "#Ques-6\n",
    "numbers = [386, 462, 47, 418, 907, 344, 236, 375, 823, 566, 597, 978, 328, 615, \n",
    "953, 345, 399, 162, 758, 219, 918, 237, 412, 566, 826, 248, 866, 950, 626, 949, \n",
    "687, 217, 815, 67, 104, 58, 512, 24, 892, 894, 767, 553, 81, 379, 843, 831, 445, \n",
    "742, 717, 958,743, 527]\n",
    "x=[]\n",
    "for num in numbers:\n",
    "    if num==237:\n",
    "        break\n",
    "    else:\n",
    "        if not(num%2):\n",
    "            x.append(num)\n",
    "print(x)"
   ]
  },
  {
   "cell_type": "code",
   "execution_count": 32,
   "metadata": {},
   "outputs": [
    {
     "name": "stdout",
     "output_type": "stream",
     "text": [
      "{'Black', 'White'}\n"
     ]
    }
   ],
   "source": [
    "#Ques-7\n",
    "color_list_1 = set([\"White\", \"Black\", \"Red\"]) \n",
    "color_list_2 = set([\"Red\", \"Green\"])\n",
    "print(color_list_1-color_list_2)"
   ]
  },
  {
   "cell_type": "code",
   "execution_count": 35,
   "metadata": {},
   "outputs": [
    {
     "name": "stdout",
     "output_type": "stream",
     "text": [
      "No\n"
     ]
    }
   ],
   "source": [
    "#Ques-8\n",
    "def ispangram(str):\n",
    "    alphabet = \"abcdefghijklmnopqrstuvwxyz\"\n",
    "    for char in alphabet:\n",
    "        if char not in str.lower():\n",
    "            return False\n",
    "    return True    \n",
    "string = \"I am pursuing Btech from RCEW\"\n",
    "if(ispangram(string)==True):\n",
    "    print(\"Yes\")\n",
    "else:\n",
    "    print(\"No\")"
   ]
  },
  {
   "cell_type": "code",
   "execution_count": 36,
   "metadata": {},
   "outputs": [
    {
     "name": "stdin",
     "output_type": "stream",
     "text": [
      "Enter a number: 5\n"
     ]
    },
    {
     "name": "stdout",
     "output_type": "stream",
     "text": [
      "615\n"
     ]
    }
   ],
   "source": [
    "#Ques-9\n",
    "n=int(input(\"Enter a number:\"))\n",
    "num= (n+ ((n*10)+n) + ((n*100)+(n*10)+n))\n",
    "print(num)"
   ]
  },
  {
   "cell_type": "code",
   "execution_count": 38,
   "metadata": {},
   "outputs": [
    {
     "name": "stdin",
     "output_type": "stream",
     "text": [
      "enter input in the form 23 54 12#98 3 17: 23 54 12#98 3 17\n"
     ]
    },
    {
     "name": "stdout",
     "output_type": "stream",
     "text": [
      "x = [23, 54, 12] and y = [98, 3, 17]\n"
     ]
    }
   ],
   "source": [
    "#Ques-10\n",
    "def filter(i):\n",
    "    l1=[]\n",
    "    l2=[]\n",
    "    for a in range(len(i)):\n",
    "        if a ==0:\n",
    "            l1 = [int(n) for n in i[a].split(\" \")] \n",
    "        else:\n",
    "            l2=[int(n) for n in i[a].split(\" \")]\n",
    "    return(l1,l2)   \n",
    "i1 = input(\"enter input in the form 23 54 12#98 3 17:\").split(\"#\")\n",
    "x,y=filter(i1)\n",
    "print(f\"x = {x} and y = {y}\")\n"
   ]
  },
  {
   "cell_type": "code",
   "execution_count": 39,
   "metadata": {},
   "outputs": [
    {
     "name": "stdin",
     "output_type": "stream",
     "text": [
      "enter few words seperated by comma without,hello,bag,world\n"
     ]
    },
    {
     "name": "stdout",
     "output_type": "stream",
     "text": [
      "bag,hello,without,world,"
     ]
    }
   ],
   "source": [
    "#Ques-11\n",
    "seq = list(input(\"enter few words seperated by comma\").split(\",\"))\n",
    "seq.sort()\n",
    "for i in seq:\n",
    "    print(i,end=\",\")"
   ]
  },
  {
   "cell_type": "code",
   "execution_count": 40,
   "metadata": {},
   "outputs": [
    {
     "name": "stdout",
     "output_type": "stream",
     "text": [
      "Kishore\n"
     ]
    }
   ],
   "source": [
    "#Ques-12\n",
    "d = {'Student': ['Rahul', 'Kishore', 'Vidhya', 'Raakhi'],'Marks': [57,87,67,79]}\n",
    "l1 = tuple(d['Marks'])\n",
    "d['Marks'].sort()\n",
    "print(d['Student'][l1.index(d['Marks'][-1])])\n"
   ]
  },
  {
   "cell_type": "code",
   "execution_count": 45,
   "metadata": {},
   "outputs": [
    {
     "name": "stdout",
     "output_type": "stream",
     "text": [
      "letters = 10,digits = 3\n"
     ]
    }
   ],
   "source": [
    "#Ques-13\n",
    "s = \"hello world! 123\"\n",
    "letters =0\n",
    "digits=0\n",
    "for char in s.lower():\n",
    "    if (ord(char)>=48 and ord(char)<=57):\n",
    "        digits +=1\n",
    "    else:\n",
    "        if(ord(char)>=97 and ord(char)<=122):\n",
    "            letters +=1\n",
    "print(f\"letters = {letters},digits = {digits}\")"
   ]
  },
  {
   "cell_type": "code",
   "execution_count": 46,
   "metadata": {},
   "outputs": [
    {
     "name": "stdout",
     "output_type": "stream",
     "text": [
      "{'Name': ['Akash', 'Vishakha', 'Rahul'], 'Subject': ['Python', 'Python', 'Python'], 'Ratings': [8.4, 8, 8.2]}\n"
     ]
    }
   ],
   "source": [
    "#Ques-14\n",
    "d = {'Name': ['Akash', 'Soniya', 'Vishakha' , 'Akshay', 'Rahul', 'Vikas'],\n",
    "'Subject': ['Python', 'Java', 'Python', 'C', 'Python', 'Java'],\n",
    "'Ratings': [8.4, 7.8, 8, 9, 8.2, 5.6]}\n",
    "x = list(zip(d['Name'],d['Subject'],d['Ratings']))\n",
    "y=[]\n",
    "for i in range(len(x)):\n",
    "\tif x[i][1]== 'Python':\n",
    "\t\ty.append(x[i])\n",
    "l1 =[]\n",
    "l2=[]\n",
    "l3=[]\n",
    "for i in range(len(y)):\n",
    "\tl1.append(y[i][0])\n",
    "\tl2.append(y[i][1])\n",
    "\tl3.append(y[i][2])\n",
    "newData= {}\n",
    "newData['Name']= l1\n",
    "newData['Subject']= l2\n",
    "newData['Ratings']= l3\n",
    "print(newData)\n"
   ]
  },
  {
   "cell_type": "code",
   "execution_count": 47,
   "metadata": {},
   "outputs": [
    {
     "name": "stdin",
     "output_type": "stream",
     "text": [
      " 21\n"
     ]
    },
    {
     "name": "stdout",
     "output_type": "stream",
     "text": [
      "[0, 7, 14]\n",
      "0 True\n",
      "1 False\n",
      "2 False\n",
      "3 False\n",
      "4 False\n",
      "5 False\n",
      "6 False\n",
      "7 True\n",
      "8 False\n",
      "9 False\n",
      "10 False\n",
      "11 False\n",
      "12 False\n",
      "13 False\n",
      "14 True\n",
      "15 False\n",
      "16 False\n",
      "17 False\n",
      "18 False\n",
      "19 False\n",
      "20 False\n"
     ]
    }
   ],
   "source": [
    "#Ques-15\n",
    "n = int(input())\n",
    "divBy7 = [i for i in range(0, n) if (i % 7 == 0)]\n",
    "print(divBy7)\n",
    "def divChecker(n):\n",
    "    for i in range(n):\n",
    "        if i % 7 == 0:\n",
    "            value = True\n",
    "        else:\n",
    "            value = False\n",
    "        print(i, value)\n",
    "divChecker(n)"
   ]
  },
  {
   "cell_type": "code",
   "execution_count": 48,
   "metadata": {},
   "outputs": [
    {
     "name": "stdout",
     "output_type": "stream",
     "text": [
      "The distance is : 2\n"
     ]
    }
   ],
   "source": [
    "#Ques-16\n",
    "t = (('UP',5),('DOWN',3),('LEFT',3),('RIGHT',2))\n",
    "x = t[0][1]- t[1][1]\n",
    "y = t[2][1]- t[2][1]\n",
    "dis = int((((t[0][1]- t[1][1])**2) + ((t[2][1]- t[2][1])**2))**(0.5))\n",
    "print(f\"The distance is : {dis}\")\n"
   ]
  },
  {
   "cell_type": "code",
   "execution_count": null,
   "metadata": {},
   "outputs": [],
   "source": []
  }
 ],
 "metadata": {
  "kernelspec": {
   "display_name": "Python 3",
   "language": "python",
   "name": "python3"
  },
  "language_info": {
   "codemirror_mode": {
    "name": "ipython",
    "version": 3
   },
   "file_extension": ".py",
   "mimetype": "text/x-python",
   "name": "python",
   "nbconvert_exporter": "python",
   "pygments_lexer": "ipython3",
   "version": "3.7.4"
  }
 },
 "nbformat": 4,
 "nbformat_minor": 4
}
